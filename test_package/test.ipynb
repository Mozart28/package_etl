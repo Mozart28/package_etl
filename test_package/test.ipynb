{
 "cells": [
  {
   "cell_type": "code",
   "execution_count": 3,
   "metadata": {},
   "outputs": [],
   "source": [
    "import etl_package\n",
    "from etl_package.imputation.imputer import Imputateur\n",
    "import pandas as pd\n",
    "\n"
   ]
  },
  {
   "cell_type": "code",
   "execution_count": 2,
   "metadata": {},
   "outputs": [
    {
     "name": "stdout",
     "output_type": "stream",
     "text": [
      "    valeurs\n",
      "0  1.000000\n",
      "1  2.000000\n",
      "2  2.333333\n",
      "3  4.000000\n",
      "4  2.333333\n"
     ]
    }
   ],
   "source": [
    "# Créer un DataFrame test\n",
    "df = pd.DataFrame({\n",
    "    \"valeurs\": [1, 2, None, 4, None]\n",
    "})\n",
    "\n",
    "# Appliquer l'imputation\n",
    "col_imputee = Imputateur.imputer_colonne(df, \"valeurs\", strategie=\"moyenne\")\n",
    "print(col_imputee)\n"
   ]
  },
  {
   "cell_type": "code",
   "execution_count": 5,
   "metadata": {},
   "outputs": [],
   "source": [
    "from etl_package import ExtractionData,Imputateur, NormaliserColonne, GestionOutliers"
   ]
  }
 ],
 "metadata": {
  "kernelspec": {
   "display_name": "finances_venv",
   "language": "python",
   "name": "python3"
  },
  "language_info": {
   "codemirror_mode": {
    "name": "ipython",
    "version": 3
   },
   "file_extension": ".py",
   "mimetype": "text/x-python",
   "name": "python",
   "nbconvert_exporter": "python",
   "pygments_lexer": "ipython3",
   "version": "3.10.13"
  }
 },
 "nbformat": 4,
 "nbformat_minor": 2
}

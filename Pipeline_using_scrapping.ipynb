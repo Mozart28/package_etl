{
  "cells": [
    {
      "cell_type": "code",
      "execution_count": 1,
      "metadata": {
        "id": "vvEr_sDY5WPz"
      },
      "outputs": [],
      "source": [
        "## library\n",
        "\n",
        "from bs4 import BeautifulSoup\n",
        "import requests\n",
        "import pandas as pd\n",
        "import matplotlib.pyplot as plt\n",
        "import numpy as np"
      ]
    },
    {
      "cell_type": "markdown",
      "metadata": {
        "id": "Ln6VKgnQAddm"
      },
      "source": [
        "**Obtenir le site Web et extraire les données**\n",
        "\n",
        "webpage = requests.get(\"...\") : télécharge la page web à l’URL donnée et stocke la réponse HTTP (son contenu, son code de statut, etc.) dans la variable webpage.\n",
        "\n",
        "soup = BeautifulSoup(webpage.content, \"html.parser\") : transforme le HTML brut de webpage en un objet BeautifulSoup pour pouvoir parcourir et extraire facilement des éléments de la page."
      ]
    },
    {
      "cell_type": "code",
      "execution_count": 5,
      "metadata": {
        "id": "CB0tPPUKAUNK"
      },
      "outputs": [],
      "source": [
        "\n",
        "webpage = requests.get(\"https://content.codecademy.com/courses/beautifulsoup/cacao/index.html\")\n",
        "\n",
        "\n",
        "soup = BeautifulSoup(webpage.content, \"html.parser\")"
      ]
    },
    {
      "cell_type": "markdown",
      "metadata": {
        "id": "mqRjwhSJ0J-Q"
      },
      "source": []
    },
    {
      "cell_type": "markdown",
      "metadata": {
        "id": "KkODJAzqKsav"
      },
      "source": [
        "Ici, nous utilisons la fonction **.find_all** sur la soup  variable que nous avons déclarée auparavant, cette soup  variable a le contenu du site Web, nous devons donc trouver ce dont nous avons besoin.\n",
        "\n",
        "\n",
        "Dans le code, vous pouvez modifier \"class\"n'importe quelle balise HTML comme \"id\"et \"class-name\"n'importe quel nom de classe/id spécifique que vous souhaitez trouver."
      ]
    },
    {
      "cell_type": "code",
      "execution_count": 6,
      "metadata": {
        "id": "wVw0Di9dATyh"
      },
      "outputs": [],
      "source": [
        "#Stockez tout le texte en HTML avec la classe \"Rating\",\"CocoaPercent\" et Company\n",
        "rating_column = soup.find_all(attrs={\"class\": \"Rating\"})\n",
        "cocoa_percent_tags = soup.find_all(attrs={\"class\": \"CocoaPercent\"})\n",
        "company_column=soup.find_all(attrs={\"class\": \"Company\"})\n",
        "origin_column=soup.find_all(attrs={\"class\": \"Origin\"})\n",
        "\n"
      ]
    },
    {
      "cell_type": "code",
      "execution_count": 7,
      "metadata": {
        "id": "1YBAUc_PTsKx"
      },
      "outputs": [
        {
          "name": "stdout",
          "output_type": "stream",
          "text": [
            "Rating\n",
            "3.75\n",
            "2.75\n",
            "3\n",
            "3.5\n",
            "3.5\n",
            "2.75\n",
            "3.5\n",
            "3.5\n",
            "3.75\n"
          ]
        }
      ],
      "source": [
        "\n",
        "#rating_column\n",
        "for rating in rating_column[:10]:\n",
        "    print(rating.text)"
      ]
    },
    {
      "cell_type": "code",
      "execution_count": 7,
      "metadata": {
        "id": "eqPWzYJJ6D6E"
      },
      "outputs": [
        {
          "name": "stdout",
          "output_type": "stream",
          "text": [
            "<class 'bs4.element.ResultSet'>\n"
          ]
        }
      ],
      "source": [
        "#type(rating_column)\n",
        "print(type(rating_column))"
      ]
    },
    {
      "cell_type": "code",
      "execution_count": 8,
      "metadata": {
        "colab": {
          "base_uri": "https://localhost:8080/",
          "height": 35
        },
        "id": "kBGAbftdH935",
        "outputId": "310aafd8-013c-4da7-fa40-6d90a9784b7d"
      },
      "outputs": [
        {
          "data": {
            "text/plain": [
              "'Specific Bean Origin               or Bar Name            '"
            ]
          },
          "execution_count": 8,
          "metadata": {},
          "output_type": "execute_result"
        }
      ],
      "source": [
        "origin_column[0].get_text().replace(\"\\n\",\"\")\n"
      ]
    },
    {
      "cell_type": "code",
      "execution_count": 14,
      "metadata": {
        "id": "fk9yfZHYF4V3"
      },
      "outputs": [],
      "source": [
        "#Faire des listes vides pour Rating et CocoaPercent\n",
        "ratings = []\n",
        "cocoa_percents = []\n",
        "company=[]\n",
        "origin=[]\n",
        "\n",
        "\n",
        "#Boucle pour insérer chaque donnée de table dans la liste\n",
        "for x in rating_column[1:]:\n",
        "  ratings.append(float(x.get_text()))\n",
        "\n",
        "\n",
        "\n",
        "\n",
        "\n",
        "\n",
        "for cm in company_column[1:]:\n",
        "    company.append(cm.get_text())\n",
        "\n",
        "\n",
        "\n",
        "for org in origin_column[1:]:\n",
        "    origin.append(org.get_text())\n",
        "\n",
        "for cacao in cocoa_percent_tags[1:]:\n",
        "  cocoa_percents.append(cacao.get_text())\n",
        "\n",
        "#Combiner les notes et la liste des pourcentages de cacao dans un dictionnaire\n",
        "data = {\"Company\": company,\"Origine spécifique du haricot\":origin, \"Rating\": ratings, \"CocoaPercentage\": cocoa_percents}\n",
        "\n",
        "#Créer une nouvelle trame de données à partir du dictionnaire de données\n",
        "df = pd.DataFrame.from_dict(data)\n"
      ]
    },
    {
      "cell_type": "code",
      "execution_count": 10,
      "metadata": {
        "colab": {
          "base_uri": "https://localhost:8080/",
          "height": 363
        },
        "id": "mY8oTcLTG9dW",
        "outputId": "97225e96-d33b-4e54-8131-2e0a435867c2"
      },
      "outputs": [
        {
          "data": {
            "text/html": [
              "<div>\n",
              "<style scoped>\n",
              "    .dataframe tbody tr th:only-of-type {\n",
              "        vertical-align: middle;\n",
              "    }\n",
              "\n",
              "    .dataframe tbody tr th {\n",
              "        vertical-align: top;\n",
              "    }\n",
              "\n",
              "    .dataframe thead th {\n",
              "        text-align: right;\n",
              "    }\n",
              "</style>\n",
              "<table border=\"1\" class=\"dataframe\">\n",
              "  <thead>\n",
              "    <tr style=\"text-align: right;\">\n",
              "      <th></th>\n",
              "      <th>Company</th>\n",
              "      <th>Origine spécifique du harirot</th>\n",
              "      <th>Rating</th>\n",
              "      <th>CocoaPercentage</th>\n",
              "    </tr>\n",
              "  </thead>\n",
              "  <tbody>\n",
              "    <tr>\n",
              "      <th>0</th>\n",
              "      <td>A. Morin</td>\n",
              "      <td>Agua Grande</td>\n",
              "      <td>3.75</td>\n",
              "      <td>63%</td>\n",
              "    </tr>\n",
              "    <tr>\n",
              "      <th>1</th>\n",
              "      <td>A. Morin</td>\n",
              "      <td>Kpime</td>\n",
              "      <td>2.75</td>\n",
              "      <td>70%</td>\n",
              "    </tr>\n",
              "    <tr>\n",
              "      <th>2</th>\n",
              "      <td>A. Morin</td>\n",
              "      <td>Atsane</td>\n",
              "      <td>3.00</td>\n",
              "      <td>70%</td>\n",
              "    </tr>\n",
              "    <tr>\n",
              "      <th>3</th>\n",
              "      <td>A. Morin</td>\n",
              "      <td>Akata</td>\n",
              "      <td>3.50</td>\n",
              "      <td>70%</td>\n",
              "    </tr>\n",
              "    <tr>\n",
              "      <th>4</th>\n",
              "      <td>A. Morin</td>\n",
              "      <td>Quilla</td>\n",
              "      <td>3.50</td>\n",
              "      <td>70%</td>\n",
              "    </tr>\n",
              "    <tr>\n",
              "      <th>5</th>\n",
              "      <td>A. Morin</td>\n",
              "      <td>Carenero</td>\n",
              "      <td>2.75</td>\n",
              "      <td>70%</td>\n",
              "    </tr>\n",
              "    <tr>\n",
              "      <th>6</th>\n",
              "      <td>A. Morin</td>\n",
              "      <td>Cuba</td>\n",
              "      <td>3.50</td>\n",
              "      <td>70%</td>\n",
              "    </tr>\n",
              "    <tr>\n",
              "      <th>7</th>\n",
              "      <td>A. Morin</td>\n",
              "      <td>Sur del Lago</td>\n",
              "      <td>3.50</td>\n",
              "      <td>70%</td>\n",
              "    </tr>\n",
              "    <tr>\n",
              "      <th>8</th>\n",
              "      <td>A. Morin</td>\n",
              "      <td>Puerto Cabello</td>\n",
              "      <td>3.75</td>\n",
              "      <td>70%</td>\n",
              "    </tr>\n",
              "    <tr>\n",
              "      <th>9</th>\n",
              "      <td>A. Morin</td>\n",
              "      <td>Pablino</td>\n",
              "      <td>4.00</td>\n",
              "      <td>70%</td>\n",
              "    </tr>\n",
              "  </tbody>\n",
              "</table>\n",
              "</div>"
            ],
            "text/plain": [
              "    Company Origine spécifique du harirot  Rating CocoaPercentage\n",
              "0  A. Morin                   Agua Grande    3.75             63%\n",
              "1  A. Morin                         Kpime    2.75             70%\n",
              "2  A. Morin                        Atsane    3.00             70%\n",
              "3  A. Morin                         Akata    3.50             70%\n",
              "4  A. Morin                        Quilla    3.50             70%\n",
              "5  A. Morin                      Carenero    2.75             70%\n",
              "6  A. Morin                          Cuba    3.50             70%\n",
              "7  A. Morin                  Sur del Lago    3.50             70%\n",
              "8  A. Morin                Puerto Cabello    3.75             70%\n",
              "9  A. Morin                       Pablino    4.00             70%"
            ]
          },
          "execution_count": 10,
          "metadata": {},
          "output_type": "execute_result"
        }
      ],
      "source": [
        "df.head(10)"
      ]
    },
    {
      "cell_type": "code",
      "execution_count": 11,
      "metadata": {
        "colab": {
          "base_uri": "https://localhost:8080/"
        },
        "id": "O6eOQCyLO5_B",
        "outputId": "e3a1e386-289c-474b-efe6-d6296f785db4"
      },
      "outputs": [
        {
          "data": {
            "text/plain": [
              "(1795, 4)"
            ]
          },
          "execution_count": 11,
          "metadata": {},
          "output_type": "execute_result"
        }
      ],
      "source": [
        "df.shape"
      ]
    },
    {
      "cell_type": "code",
      "execution_count": 11,
      "metadata": {
        "id": "zeQuYfHE2U0A"
      },
      "outputs": [],
      "source": [
        "#df.to_csv('/content/export/GfG.csv', index = True)"
      ]
    },
    {
      "cell_type": "markdown",
      "metadata": {
        "id": "FNVx4Qli0XuU"
      },
      "source": [
        "# **Méthodes utiles de BeautifulSoup**"
      ]
    },
    {
      "cell_type": "markdown",
      "metadata": {
        "id": "7HITmiHx4Lxm"
      },
      "source": [
        "# **A. Rechercher des éléments**\n"
      ]
    },
    {
      "cell_type": "markdown",
      "metadata": {
        "id": "dByeDz810NNZ"
      },
      "source": [
        "| Méthode                          | Ce qu’elle fait                                                                        |\n",
        "| -------------------------------- | -------------------------------------------------------------------------------------- |\n",
        "| `find(name, attrs, string)`      | Retourne **le premier** élément qui correspond (par nom de balise, attributs, texte).  |\n",
        "| `find_all(name, attrs, string)`  | Retourne **tous** les éléments correspondants (liste). Alias : `findAll`.              |\n",
        "| `select(css_selector)`           | Retourne les éléments qui matchent un **sélecteur CSS** (ex. `\"table.data td.price\"`). |\n",
        "| `select_one(css_selector)`       | Retourne **le premier** élément qui match un sélecteur CSS.                            |\n",
        "| `find_parent(name, attrs)`       | Premier **parent** qui matche.                                                         |\n",
        "| `find_parents(name, attrs)`      | **Tous les parents** qui matchent.                                                     |\n",
        "| `find_next(name, attrs)`         | Prochain élément **après** dans le flux qui matche.                                    |\n",
        "| `find_all_next(name, attrs)`     | **Tous** les suivants qui matchent.                                                    |\n",
        "| `find_previous(name, attrs)`     | Élément **avant** dans le flux qui matche.                                             |\n",
        "| `find_all_previous(name, attrs)` | **Tous** les précédents qui matchent.                                                  |\n"
      ]
    },
    {
      "cell_type": "markdown",
      "metadata": {
        "id": "71w9KK9e4A4A"
      },
      "source": [
        "**B. Naviguer dans l’arbre**"
      ]
    },
    {
      "cell_type": "markdown",
      "metadata": {
        "id": "qdj-J2ns38_K"
      },
      "source": [
        "| Méthode/Attribut                          | Ce qu’elle fait                                                |\n",
        "| ----------------------------------------- | -------------------------------------------------------------- |\n",
        "| `tag.parent` / `tag.parents`              | Accéder au parent / itérer sur tous les parents.               |\n",
        "| `tag.next_sibling` / `previous_sibling`   | Frère **suivant** / **précédent** immédiat.                    |\n",
        "| `tag.next_siblings` / `previous_siblings` | Itérateurs sur **tous** les frères suivants/précédents.        |\n",
        "| `tag.children` / `tag.descendants`        | Itérateurs sur **enfants directs** / **tous les descendants**. |\n",
        "| `tag.contents`                            | **Liste** des enfants directs.                                 |\n",
        "| `soup.title`, `soup.head`, `soup.body`    | Accès rapide au **premier** tag de ce type.                    |\n"
      ]
    },
    {
      "cell_type": "code",
      "execution_count": 1,
      "metadata": {
        "id": "zmTRkB-u0gcY"
      },
      "outputs": [
        {
          "name": "stdout",
          "output_type": "stream",
          "text": [
            "  Company \\n               (Maker-if known)  \\\n",
            "0                                  A. Morin   \n",
            "1                                  A. Morin   \n",
            "2                                  A. Morin   \n",
            "3                                  A. Morin   \n",
            "4                                  A. Morin   \n",
            "\n",
            "  Specific Bean Origin\\n               or Bar Name   REF  \\\n",
            "0                                      Agua Grande  1876   \n",
            "1                                            Kpime  1676   \n",
            "2                                           Atsane  1676   \n",
            "3                                            Akata  1680   \n",
            "4                                           Quilla  1704   \n",
            "\n",
            "  Review\\n               Date Cocoa\\n               Percent  \\\n",
            "0                        2016                           63%   \n",
            "1                        2015                           70%   \n",
            "2                        2015                           70%   \n",
            "3                        2015                           70%   \n",
            "4                        2015                           70%   \n",
            "\n",
            "  Company\\n               Location Rating Bean\\n               Type  \\\n",
            "0                           France   3.75                             \n",
            "1                           France   2.75                             \n",
            "2                           France      3                             \n",
            "3                           France    3.5                             \n",
            "4                           France    3.5                             \n",
            "\n",
            "  Broad Bean\\n               Origin  \n",
            "0                          Sao Tome  \n",
            "1                              Togo  \n",
            "2                              Togo  \n",
            "3                              Togo  \n",
            "4                              Peru  \n"
          ]
        }
      ],
      "source": [
        "# Test de l'Extraction des données via le module extraction.webscrapping sans colonnes spécifiées\n",
        "\n",
        "from etl_package import ExtractionData \n",
        "\n",
        "url = \"https://content.codecademy.com/courses/beautifulsoup/cacao/index.html\"\n",
        "colonnes = [\"Company\", \"Origin\", \"Rating\",\"Cocoa Percent\"]\n",
        "\n",
        "df_all = ExtractionData.extract_webscrapping(url)\n",
        "print(df_all.head())"
      ]
    },
    {
      "cell_type": "code",
      "execution_count": 2,
      "metadata": {},
      "outputs": [
        {
          "data": {
            "text/html": [
              "<div>\n",
              "<style scoped>\n",
              "    .dataframe tbody tr th:only-of-type {\n",
              "        vertical-align: middle;\n",
              "    }\n",
              "\n",
              "    .dataframe tbody tr th {\n",
              "        vertical-align: top;\n",
              "    }\n",
              "\n",
              "    .dataframe thead th {\n",
              "        text-align: right;\n",
              "    }\n",
              "</style>\n",
              "<table border=\"1\" class=\"dataframe\">\n",
              "  <thead>\n",
              "    <tr style=\"text-align: right;\">\n",
              "      <th></th>\n",
              "      <th>Company (Maker-if known)</th>\n",
              "      <th>Specific Bean Origin or Bar Name</th>\n",
              "      <th>REF</th>\n",
              "      <th>Review Date</th>\n",
              "      <th>Cocoa Percent</th>\n",
              "      <th>Company Location</th>\n",
              "      <th>Rating</th>\n",
              "      <th>Bean Type</th>\n",
              "      <th>Broad Bean Origin</th>\n",
              "    </tr>\n",
              "  </thead>\n",
              "  <tbody>\n",
              "    <tr>\n",
              "      <th>0</th>\n",
              "      <td>A. Morin</td>\n",
              "      <td>Agua Grande</td>\n",
              "      <td>1876</td>\n",
              "      <td>2016</td>\n",
              "      <td>63%</td>\n",
              "      <td>France</td>\n",
              "      <td>3.75</td>\n",
              "      <td></td>\n",
              "      <td>Sao Tome</td>\n",
              "    </tr>\n",
              "    <tr>\n",
              "      <th>1</th>\n",
              "      <td>A. Morin</td>\n",
              "      <td>Kpime</td>\n",
              "      <td>1676</td>\n",
              "      <td>2015</td>\n",
              "      <td>70%</td>\n",
              "      <td>France</td>\n",
              "      <td>2.75</td>\n",
              "      <td></td>\n",
              "      <td>Togo</td>\n",
              "    </tr>\n",
              "    <tr>\n",
              "      <th>2</th>\n",
              "      <td>A. Morin</td>\n",
              "      <td>Atsane</td>\n",
              "      <td>1676</td>\n",
              "      <td>2015</td>\n",
              "      <td>70%</td>\n",
              "      <td>France</td>\n",
              "      <td>3</td>\n",
              "      <td></td>\n",
              "      <td>Togo</td>\n",
              "    </tr>\n",
              "    <tr>\n",
              "      <th>3</th>\n",
              "      <td>A. Morin</td>\n",
              "      <td>Akata</td>\n",
              "      <td>1680</td>\n",
              "      <td>2015</td>\n",
              "      <td>70%</td>\n",
              "      <td>France</td>\n",
              "      <td>3.5</td>\n",
              "      <td></td>\n",
              "      <td>Togo</td>\n",
              "    </tr>\n",
              "    <tr>\n",
              "      <th>4</th>\n",
              "      <td>A. Morin</td>\n",
              "      <td>Quilla</td>\n",
              "      <td>1704</td>\n",
              "      <td>2015</td>\n",
              "      <td>70%</td>\n",
              "      <td>France</td>\n",
              "      <td>3.5</td>\n",
              "      <td></td>\n",
              "      <td>Peru</td>\n",
              "    </tr>\n",
              "    <tr>\n",
              "      <th>...</th>\n",
              "      <td>...</td>\n",
              "      <td>...</td>\n",
              "      <td>...</td>\n",
              "      <td>...</td>\n",
              "      <td>...</td>\n",
              "      <td>...</td>\n",
              "      <td>...</td>\n",
              "      <td>...</td>\n",
              "      <td>...</td>\n",
              "    </tr>\n",
              "    <tr>\n",
              "      <th>1790</th>\n",
              "      <td>Zotter</td>\n",
              "      <td>Peru</td>\n",
              "      <td>647</td>\n",
              "      <td>2011</td>\n",
              "      <td>70%</td>\n",
              "      <td>Austria</td>\n",
              "      <td>3.75</td>\n",
              "      <td></td>\n",
              "      <td>Peru</td>\n",
              "    </tr>\n",
              "    <tr>\n",
              "      <th>1791</th>\n",
              "      <td>Zotter</td>\n",
              "      <td>Congo</td>\n",
              "      <td>749</td>\n",
              "      <td>2011</td>\n",
              "      <td>65%</td>\n",
              "      <td>Austria</td>\n",
              "      <td>3</td>\n",
              "      <td>Forastero</td>\n",
              "      <td>Congo</td>\n",
              "    </tr>\n",
              "    <tr>\n",
              "      <th>1792</th>\n",
              "      <td>Zotter</td>\n",
              "      <td>Kerala State</td>\n",
              "      <td>749</td>\n",
              "      <td>2011</td>\n",
              "      <td>65%</td>\n",
              "      <td>Austria</td>\n",
              "      <td>3.5</td>\n",
              "      <td>Forastero</td>\n",
              "      <td>India</td>\n",
              "    </tr>\n",
              "    <tr>\n",
              "      <th>1793</th>\n",
              "      <td>Zotter</td>\n",
              "      <td>Kerala State</td>\n",
              "      <td>781</td>\n",
              "      <td>2011</td>\n",
              "      <td>62%</td>\n",
              "      <td>Austria</td>\n",
              "      <td>3.25</td>\n",
              "      <td></td>\n",
              "      <td>India</td>\n",
              "    </tr>\n",
              "    <tr>\n",
              "      <th>1794</th>\n",
              "      <td>Zotter</td>\n",
              "      <td>Brazil, Mitzi Blue</td>\n",
              "      <td>486</td>\n",
              "      <td>2010</td>\n",
              "      <td>65%</td>\n",
              "      <td>Austria</td>\n",
              "      <td>3</td>\n",
              "      <td></td>\n",
              "      <td>Brazil</td>\n",
              "    </tr>\n",
              "  </tbody>\n",
              "</table>\n",
              "<p>1795 rows × 9 columns</p>\n",
              "</div>"
            ],
            "text/plain": [
              "     Company (Maker-if known) Specific Bean Origin or Bar Name   REF  \\\n",
              "0                    A. Morin                      Agua Grande  1876   \n",
              "1                    A. Morin                            Kpime  1676   \n",
              "2                    A. Morin                           Atsane  1676   \n",
              "3                    A. Morin                            Akata  1680   \n",
              "4                    A. Morin                           Quilla  1704   \n",
              "...                       ...                              ...   ...   \n",
              "1790                   Zotter                             Peru   647   \n",
              "1791                   Zotter                            Congo   749   \n",
              "1792                   Zotter                     Kerala State   749   \n",
              "1793                   Zotter                     Kerala State   781   \n",
              "1794                   Zotter               Brazil, Mitzi Blue   486   \n",
              "\n",
              "     Review Date Cocoa Percent Company Location Rating  Bean Type  \\\n",
              "0           2016           63%           France   3.75              \n",
              "1           2015           70%           France   2.75              \n",
              "2           2015           70%           France      3              \n",
              "3           2015           70%           France    3.5              \n",
              "4           2015           70%           France    3.5              \n",
              "...          ...           ...              ...    ...        ...   \n",
              "1790        2011           70%          Austria   3.75              \n",
              "1791        2011           65%          Austria      3  Forastero   \n",
              "1792        2011           65%          Austria    3.5  Forastero   \n",
              "1793        2011           62%          Austria   3.25              \n",
              "1794        2010           65%          Austria      3              \n",
              "\n",
              "     Broad Bean Origin  \n",
              "0             Sao Tome  \n",
              "1                 Togo  \n",
              "2                 Togo  \n",
              "3                 Togo  \n",
              "4                 Peru  \n",
              "...                ...  \n",
              "1790              Peru  \n",
              "1791             Congo  \n",
              "1792             India  \n",
              "1793             India  \n",
              "1794            Brazil  \n",
              "\n",
              "[1795 rows x 9 columns]"
            ]
          },
          "execution_count": 2,
          "metadata": {},
          "output_type": "execute_result"
        }
      ],
      "source": [
        "# Nettoyer l'affichage des colonnes \n",
        "ExtractionData._nettoyer_colonnes(df_all)"
      ]
    },
    {
      "cell_type": "code",
      "execution_count": 2,
      "metadata": {
        "id": "TYdpRt7P0TYM"
      },
      "outputs": [
        {
          "name": "stdout",
          "output_type": "stream",
          "text": [
            "    Company Origine spécifique du haricot Rating CocoaPercentage\n",
            "0  A. Morin                   Agua Grande   3.75             63%\n",
            "1  A. Morin                         Kpime   2.75             70%\n",
            "2  A. Morin                        Atsane      3             70%\n",
            "3  A. Morin                         Akata    3.5             70%\n",
            "4  A. Morin                        Quilla    3.5             70%\n"
          ]
        }
      ],
      "source": [
        "# automatisation de l'extraction des données par webscrapping\n",
        "\n",
        "from etl_package import ExtractionData \n",
        "url = \"https://content.codecademy.com/courses/beautifulsoup/cacao/index.html\"\n",
        "\n",
        "colonnes = [\"Company\", \"Origin\", \"Rating\", \"CocoaPercent\"]\n",
        "noms_final = [\"Company\", \"Origine spécifique du haricot\", \"Rating\", \"CocoaPercentage\"]\n",
        "\n",
        "df = ExtractionData.extract_webscrapping(\n",
        "    url, \n",
        "    columns_to_extract=colonnes, \n",
        "    rename_columns=noms_final\n",
        ")\n",
        "\n",
        "print(df.head())\n"
      ]
    },
    {
      "cell_type": "code",
      "execution_count": 16,
      "metadata": {},
      "outputs": [
        {
          "name": "stdout",
          "output_type": "stream",
          "text": [
            "Il n'y a pas de valeur double dans la DataFrame.\n",
            "None\n"
          ]
        }
      ],
      "source": [
        "# Détection de valeurs doubles dans la df\n",
        "\n",
        "from etl_package import ValeurDouble\n",
        "print(ValeurDouble.calcul_valeur_double(df))"
      ]
    },
    {
      "cell_type": "code",
      "execution_count": 3,
      "metadata": {},
      "outputs": [
        {
          "name": "stdout",
          "output_type": "stream",
          "text": [
            "Le DataFrame ne contient pas de valeurs manquantes\n",
            "0\n"
          ]
        }
      ],
      "source": [
        "# Détection de valeurs doubles dans la df\n",
        "\n",
        "from etl_package import ValeurManquante\n",
        "print(ValeurManquante.calcul_valeur_manquante(df))"
      ]
    },
    {
      "cell_type": "code",
      "execution_count": 18,
      "metadata": {},
      "outputs": [
        {
          "name": "stdout",
          "output_type": "stream",
          "text": [
            "<class 'pandas.core.frame.DataFrame'>\n",
            "RangeIndex: 1795 entries, 0 to 1794\n",
            "Data columns (total 4 columns):\n",
            " #   Column                         Non-Null Count  Dtype \n",
            "---  ------                         --------------  ----- \n",
            " 0   Company                        1795 non-null   object\n",
            " 1   Origine spécifique du haricot  1795 non-null   object\n",
            " 2   Rating                         1795 non-null   object\n",
            " 3   CocoaPercentage                1795 non-null   object\n",
            "dtypes: object(4)\n",
            "memory usage: 56.2+ KB\n"
          ]
        }
      ],
      "source": [
        "# Vérification des types de colonne de la df\n",
        "\n",
        "df.info()"
      ]
    },
    {
      "cell_type": "code",
      "execution_count": 19,
      "metadata": {},
      "outputs": [
        {
          "name": "stdout",
          "output_type": "stream",
          "text": [
            "La colonne 'Rating' a été convertie en float64\n"
          ]
        }
      ],
      "source": [
        "# Changement du type de la colonne \"Rating\" en float\n",
        "\n",
        "from etl_package.transformation.type_colonne import TypeColonne\n",
        "TypeColonne.changer_type_colonne(df,cols=\"Rating\",type_=\"float\",inplace =True)"
      ]
    },
    {
      "cell_type": "code",
      "execution_count": 21,
      "metadata": {},
      "outputs": [
        {
          "name": "stdout",
          "output_type": "stream",
          "text": [
            "La colonne 'Company' a été convertie en string\n",
            "La colonne 'Origine spécifique du haricot' a été convertie en string\n"
          ]
        }
      ],
      "source": [
        "# Transformation du type des colonnes \"Company Location\" et \"Broad Bean Origin\" en string\n",
        "from etl_package.transformation.type_colonne import TypeColonne\n",
        "\n",
        "TypeColonne.changer_type_colonne(df,cols=[\"Company\",\"Origine spécifique du haricot\"],type_=\"string\",inplace = True)"
      ]
    },
    {
      "cell_type": "code",
      "execution_count": 22,
      "metadata": {},
      "outputs": [
        {
          "name": "stdout",
          "output_type": "stream",
          "text": [
            "<class 'pandas.core.frame.DataFrame'>\n",
            "RangeIndex: 1795 entries, 0 to 1794\n",
            "Data columns (total 4 columns):\n",
            " #   Column                         Non-Null Count  Dtype  \n",
            "---  ------                         --------------  -----  \n",
            " 0   Company                        1795 non-null   string \n",
            " 1   Origine spécifique du haricot  1795 non-null   string \n",
            " 2   Rating                         1795 non-null   float64\n",
            " 3   CocoaPercentage                1795 non-null   object \n",
            "dtypes: float64(1), object(1), string(2)\n",
            "memory usage: 56.2+ KB\n"
          ]
        }
      ],
      "source": [
        "# Vérification du changement effectif\n",
        "df.info()"
      ]
    },
    {
      "cell_type": "code",
      "execution_count": 24,
      "metadata": {},
      "outputs": [
        {
          "name": "stdout",
          "output_type": "stream",
          "text": [
            " Remplacement effectué et colonne 'CocoaPercentage' divisée par 100.\n"
          ]
        },
        {
          "data": {
            "text/html": [
              "<div>\n",
              "<style scoped>\n",
              "    .dataframe tbody tr th:only-of-type {\n",
              "        vertical-align: middle;\n",
              "    }\n",
              "\n",
              "    .dataframe tbody tr th {\n",
              "        vertical-align: top;\n",
              "    }\n",
              "\n",
              "    .dataframe thead th {\n",
              "        text-align: right;\n",
              "    }\n",
              "</style>\n",
              "<table border=\"1\" class=\"dataframe\">\n",
              "  <thead>\n",
              "    <tr style=\"text-align: right;\">\n",
              "      <th></th>\n",
              "      <th>Company</th>\n",
              "      <th>Origine spécifique du haricot</th>\n",
              "      <th>Rating</th>\n",
              "      <th>CocoaPercentage</th>\n",
              "    </tr>\n",
              "  </thead>\n",
              "  <tbody>\n",
              "    <tr>\n",
              "      <th>0</th>\n",
              "      <td>A. Morin</td>\n",
              "      <td>Agua Grande</td>\n",
              "      <td>3.75</td>\n",
              "      <td>0.63</td>\n",
              "    </tr>\n",
              "    <tr>\n",
              "      <th>1</th>\n",
              "      <td>A. Morin</td>\n",
              "      <td>Kpime</td>\n",
              "      <td>2.75</td>\n",
              "      <td>0.70</td>\n",
              "    </tr>\n",
              "    <tr>\n",
              "      <th>2</th>\n",
              "      <td>A. Morin</td>\n",
              "      <td>Atsane</td>\n",
              "      <td>3.00</td>\n",
              "      <td>0.70</td>\n",
              "    </tr>\n",
              "    <tr>\n",
              "      <th>3</th>\n",
              "      <td>A. Morin</td>\n",
              "      <td>Akata</td>\n",
              "      <td>3.50</td>\n",
              "      <td>0.70</td>\n",
              "    </tr>\n",
              "    <tr>\n",
              "      <th>4</th>\n",
              "      <td>A. Morin</td>\n",
              "      <td>Quilla</td>\n",
              "      <td>3.50</td>\n",
              "      <td>0.70</td>\n",
              "    </tr>\n",
              "    <tr>\n",
              "      <th>...</th>\n",
              "      <td>...</td>\n",
              "      <td>...</td>\n",
              "      <td>...</td>\n",
              "      <td>...</td>\n",
              "    </tr>\n",
              "    <tr>\n",
              "      <th>1790</th>\n",
              "      <td>Zotter</td>\n",
              "      <td>Peru</td>\n",
              "      <td>3.75</td>\n",
              "      <td>0.70</td>\n",
              "    </tr>\n",
              "    <tr>\n",
              "      <th>1791</th>\n",
              "      <td>Zotter</td>\n",
              "      <td>Congo</td>\n",
              "      <td>3.00</td>\n",
              "      <td>0.65</td>\n",
              "    </tr>\n",
              "    <tr>\n",
              "      <th>1792</th>\n",
              "      <td>Zotter</td>\n",
              "      <td>Kerala State</td>\n",
              "      <td>3.50</td>\n",
              "      <td>0.65</td>\n",
              "    </tr>\n",
              "    <tr>\n",
              "      <th>1793</th>\n",
              "      <td>Zotter</td>\n",
              "      <td>Kerala State</td>\n",
              "      <td>3.25</td>\n",
              "      <td>0.62</td>\n",
              "    </tr>\n",
              "    <tr>\n",
              "      <th>1794</th>\n",
              "      <td>Zotter</td>\n",
              "      <td>Brazil, Mitzi Blue</td>\n",
              "      <td>3.00</td>\n",
              "      <td>0.65</td>\n",
              "    </tr>\n",
              "  </tbody>\n",
              "</table>\n",
              "<p>1795 rows × 4 columns</p>\n",
              "</div>"
            ],
            "text/plain": [
              "       Company Origine spécifique du haricot  Rating  CocoaPercentage\n",
              "0     A. Morin                   Agua Grande    3.75             0.63\n",
              "1     A. Morin                         Kpime    2.75             0.70\n",
              "2     A. Morin                        Atsane    3.00             0.70\n",
              "3     A. Morin                         Akata    3.50             0.70\n",
              "4     A. Morin                        Quilla    3.50             0.70\n",
              "...        ...                           ...     ...              ...\n",
              "1790    Zotter                          Peru    3.75             0.70\n",
              "1791    Zotter                         Congo    3.00             0.65\n",
              "1792    Zotter                  Kerala State    3.50             0.65\n",
              "1793    Zotter                  Kerala State    3.25             0.62\n",
              "1794    Zotter            Brazil, Mitzi Blue    3.00             0.65\n",
              "\n",
              "[1795 rows x 4 columns]"
            ]
          },
          "execution_count": 24,
          "metadata": {},
          "output_type": "execute_result"
        }
      ],
      "source": [
        "# Transformation de la colonne \"Cocoa Percent\"\n",
        "from etl_package import RemplacementColonne\n",
        "\n",
        "RemplacementColonne.remplacer_valeurs(df,colonne = \"CocoaPercentage\",remplacement=(\"%\",\"\"),divide=True,inplace= True)"
      ]
    },
    {
      "cell_type": "code",
      "execution_count": 25,
      "metadata": {},
      "outputs": [
        {
          "name": "stdout",
          "output_type": "stream",
          "text": [
            "La colonne Rating contient 19 valeurs abérantes\n",
            "78      5.00\n",
            "86      5.00\n",
            "125     1.75\n",
            "132     1.75\n",
            "245     1.50\n",
            "249     1.50\n",
            "324     1.50\n",
            "326     1.00\n",
            "437     1.00\n",
            "449     1.50\n",
            "465     1.00\n",
            "554     1.50\n",
            "828     1.75\n",
            "988     1.50\n",
            "1129    1.50\n",
            "1175    1.00\n",
            "1411    1.50\n",
            "1492    1.50\n",
            "1694    1.50\n",
            "Name: Rating, dtype: float64\n"
          ]
        }
      ],
      "source": [
        "# Détection de valeurs abérantes dans la colonne Rating\n",
        "\n",
        "from etl_package import ZScoreAnomalie\n",
        "print(ZScoreAnomalie.calcul_zscore(df,colonne=\"Rating\"))"
      ]
    },
    {
      "cell_type": "code",
      "execution_count": 3,
      "metadata": {},
      "outputs": [
        {
          "name": "stdout",
          "output_type": "stream",
          "text": [
            "La colonne 'Rating' a été normalisée entre 0 et 1 .\n"
          ]
        },
        {
          "data": {
            "text/html": [
              "<div>\n",
              "<style scoped>\n",
              "    .dataframe tbody tr th:only-of-type {\n",
              "        vertical-align: middle;\n",
              "    }\n",
              "\n",
              "    .dataframe tbody tr th {\n",
              "        vertical-align: top;\n",
              "    }\n",
              "\n",
              "    .dataframe thead th {\n",
              "        text-align: right;\n",
              "    }\n",
              "</style>\n",
              "<table border=\"1\" class=\"dataframe\">\n",
              "  <thead>\n",
              "    <tr style=\"text-align: right;\">\n",
              "      <th></th>\n",
              "      <th>Company Location</th>\n",
              "      <th>Broad Bean Origin</th>\n",
              "      <th>Rating</th>\n",
              "      <th>Cocoa Percent</th>\n",
              "    </tr>\n",
              "  </thead>\n",
              "  <tbody>\n",
              "    <tr>\n",
              "      <th>0</th>\n",
              "      <td>A. Morin</td>\n",
              "      <td>Agua Grande</td>\n",
              "      <td>0.6875</td>\n",
              "      <td>63%</td>\n",
              "    </tr>\n",
              "    <tr>\n",
              "      <th>1</th>\n",
              "      <td>A. Morin</td>\n",
              "      <td>Kpime</td>\n",
              "      <td>0.4375</td>\n",
              "      <td>70%</td>\n",
              "    </tr>\n",
              "    <tr>\n",
              "      <th>2</th>\n",
              "      <td>A. Morin</td>\n",
              "      <td>Atsane</td>\n",
              "      <td>0.5000</td>\n",
              "      <td>70%</td>\n",
              "    </tr>\n",
              "    <tr>\n",
              "      <th>3</th>\n",
              "      <td>A. Morin</td>\n",
              "      <td>Akata</td>\n",
              "      <td>0.6250</td>\n",
              "      <td>70%</td>\n",
              "    </tr>\n",
              "    <tr>\n",
              "      <th>4</th>\n",
              "      <td>A. Morin</td>\n",
              "      <td>Quilla</td>\n",
              "      <td>0.6250</td>\n",
              "      <td>70%</td>\n",
              "    </tr>\n",
              "    <tr>\n",
              "      <th>...</th>\n",
              "      <td>...</td>\n",
              "      <td>...</td>\n",
              "      <td>...</td>\n",
              "      <td>...</td>\n",
              "    </tr>\n",
              "    <tr>\n",
              "      <th>1790</th>\n",
              "      <td>Zotter</td>\n",
              "      <td>Peru</td>\n",
              "      <td>0.6875</td>\n",
              "      <td>70%</td>\n",
              "    </tr>\n",
              "    <tr>\n",
              "      <th>1791</th>\n",
              "      <td>Zotter</td>\n",
              "      <td>Congo</td>\n",
              "      <td>0.5000</td>\n",
              "      <td>65%</td>\n",
              "    </tr>\n",
              "    <tr>\n",
              "      <th>1792</th>\n",
              "      <td>Zotter</td>\n",
              "      <td>Kerala State</td>\n",
              "      <td>0.6250</td>\n",
              "      <td>65%</td>\n",
              "    </tr>\n",
              "    <tr>\n",
              "      <th>1793</th>\n",
              "      <td>Zotter</td>\n",
              "      <td>Kerala State</td>\n",
              "      <td>0.5625</td>\n",
              "      <td>62%</td>\n",
              "    </tr>\n",
              "    <tr>\n",
              "      <th>1794</th>\n",
              "      <td>Zotter</td>\n",
              "      <td>Brazil, Mitzi Blue</td>\n",
              "      <td>0.5000</td>\n",
              "      <td>65%</td>\n",
              "    </tr>\n",
              "  </tbody>\n",
              "</table>\n",
              "<p>1795 rows × 4 columns</p>\n",
              "</div>"
            ],
            "text/plain": [
              "     Company Location   Broad Bean Origin  Rating Cocoa Percent\n",
              "0            A. Morin         Agua Grande  0.6875           63%\n",
              "1            A. Morin               Kpime  0.4375           70%\n",
              "2            A. Morin              Atsane  0.5000           70%\n",
              "3            A. Morin               Akata  0.6250           70%\n",
              "4            A. Morin              Quilla  0.6250           70%\n",
              "...               ...                 ...     ...           ...\n",
              "1790           Zotter                Peru  0.6875           70%\n",
              "1791           Zotter               Congo  0.5000           65%\n",
              "1792           Zotter        Kerala State  0.6250           65%\n",
              "1793           Zotter        Kerala State  0.5625           62%\n",
              "1794           Zotter  Brazil, Mitzi Blue  0.5000           65%\n",
              "\n",
              "[1795 rows x 4 columns]"
            ]
          },
          "execution_count": 3,
          "metadata": {},
          "output_type": "execute_result"
        }
      ],
      "source": [
        "# Normaliser la colonne Rating en utilisant la méthode min-max\n",
        "\n",
        "from etl_package import NormaliserColonne\n",
        "NormaliserColonne.normaliser_colonne_choisie(df,col=\"Rating\",inplace=True)"
      ]
    },
    {
      "cell_type": "code",
      "execution_count": 26,
      "metadata": {},
      "outputs": [
        {
          "name": "stdout",
          "output_type": "stream",
          "text": [
            " Colonne 'Rating' ne contient aucun NaN → aucune imputation nécessaire.\n"
          ]
        },
        {
          "data": {
            "text/plain": [
              "0       3.75\n",
              "1       2.75\n",
              "2       3.00\n",
              "3       3.50\n",
              "4       3.50\n",
              "        ... \n",
              "1790    3.75\n",
              "1791    3.00\n",
              "1792    3.50\n",
              "1793    3.25\n",
              "1794    3.00\n",
              "Name: Rating, Length: 1795, dtype: float64"
            ]
          },
          "execution_count": 26,
          "metadata": {},
          "output_type": "execute_result"
        }
      ],
      "source": [
        "# Test de l'Imputation si necessaiire des valeurs manquantes dans la colonne \"Rating\"\n",
        "\n",
        "from etl_package import Imputateur\n",
        "Imputateur.imputer_colonne(df,colonne=\"Rating\",strategie=\"mediane\")"
      ]
    },
    {
      "cell_type": "code",
      "execution_count": 27,
      "metadata": {},
      "outputs": [
        {
          "name": "stdout",
          "output_type": "stream",
          "text": [
            " Colonne 'Rating' ne contient aucun NaN → aucune imputation nécessaire.\n"
          ]
        }
      ],
      "source": [
        "# Test de l'imputation supervisée des valeurs manquantes sur la colonne \"Rating\"\n",
        "\n",
        "from etl_package import ImputateurML\n",
        "from sklearn.ensemble import RandomForestRegressor\n",
        "modele = RandomForestRegressor(random_state=42)\n",
        "\n",
        "df3 = ImputateurML.imputer_colonne_ml(df,colonne_cible=\"Rating\",modele = modele)"
      ]
    },
    {
      "cell_type": "code",
      "execution_count": null,
      "metadata": {},
      "outputs": [],
      "source": []
    },
    {
      "cell_type": "code",
      "execution_count": 33,
      "metadata": {},
      "outputs": [
        {
          "name": "stdout",
          "output_type": "stream",
          "text": [
            "DataFrame sauvegardé en CSV : /Users/m12020/Downloads/PACKAGE_ETL/data_export/cocoa.csv\n"
          ]
        }
      ],
      "source": [
        "# Charger les données vers un CSV\n",
        "\n",
        "from etl_package import Loader\n",
        "Loader.vers_csv(df, \"/Users/m12020/Downloads/PACKAGE_ETL/data_export/cocoa.csv\")\n"
      ]
    },
    {
      "cell_type": "code",
      "execution_count": 20,
      "metadata": {},
      "outputs": [
        {
          "name": "stdout",
          "output_type": "stream",
          "text": [
            "DataFrame sauvegardé en CSV : personnes.csv\n"
          ]
        }
      ],
      "source": [
        "\n",
        "\n"
      ]
    },
    {
      "cell_type": "code",
      "execution_count": 36,
      "metadata": {},
      "outputs": [
        {
          "name": "stdout",
          "output_type": "stream",
          "text": [
            "DataFrame chargé dans la table SQL : cocoa\n"
          ]
        }
      ],
      "source": [
        "# Chargement vers une base sql\n",
        "\n",
        "from sqlalchemy import create_engine\n",
        "engine = create_engine(\"sqlite:///cocoa.db\")\n",
        "Loader.vers_sql(df, \"cocoa\", engine, if_exists=\"replace\")"
      ]
    }
  ],
  "metadata": {
    "colab": {
      "provenance": []
    },
    "kernelspec": {
      "display_name": "Python 3",
      "name": "python3"
    },
    "language_info": {
      "codemirror_mode": {
        "name": "ipython",
        "version": 3
      },
      "file_extension": ".py",
      "mimetype": "text/x-python",
      "name": "python",
      "nbconvert_exporter": "python",
      "pygments_lexer": "ipython3",
      "version": "3.10.13"
    }
  },
  "nbformat": 4,
  "nbformat_minor": 0
}

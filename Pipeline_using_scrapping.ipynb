{
  "cells": [
    {
      "cell_type": "code",
      "execution_count": 1,
      "metadata": {
        "id": "vvEr_sDY5WPz"
      },
      "outputs": [],
      "source": [
        "## libraby\n",
        "\n",
        "from bs4 import BeautifulSoup\n",
        "import requests\n",
        "import pandas as pd\n",
        "import matplotlib.pyplot as plt\n",
        "import numpy as np"
      ]
    },
    {
      "cell_type": "markdown",
      "metadata": {
        "id": "Ln6VKgnQAddm"
      },
      "source": [
        "**Obtenir le site Web et extraire les données**\n",
        "\n",
        "webpage = requests.get(\"...\") : télécharge la page web à l’URL donnée et stocke la réponse HTTP (son contenu, son code de statut, etc.) dans la variable webpage.\n",
        "\n",
        "soup = BeautifulSoup(webpage.content, \"html.parser\") : transforme le HTML brut de webpage en un objet BeautifulSoup pour pouvoir parcourir et extraire facilement des éléments de la page."
      ]
    },
    {
      "cell_type": "code",
      "execution_count": 2,
      "metadata": {
        "id": "CB0tPPUKAUNK"
      },
      "outputs": [],
      "source": [
        "\n",
        "webpage = requests.get(\"https://content.codecademy.com/courses/beautifulsoup/cacao/index.html\")\n",
        "\n",
        "\n",
        "soup = BeautifulSoup(webpage.content, \"html.parser\")"
      ]
    },
    {
      "cell_type": "markdown",
      "metadata": {
        "id": "mqRjwhSJ0J-Q"
      },
      "source": []
    },
    {
      "cell_type": "markdown",
      "metadata": {
        "id": "KkODJAzqKsav"
      },
      "source": [
        "Ici, nous utilisons la fonction **.find_all** sur la soup  variable que nous avons déclarée auparavant, cette soup  variable a le contenu du site Web, nous devons donc trouver ce dont nous avons besoin.\n",
        "\n",
        "\n",
        "Dans le code, vous pouvez modifier \"class\"n'importe quelle balise HTML comme \"id\"et \"class-name\"n'importe quel nom de classe/id spécifique que vous souhaitez trouver."
      ]
    },
    {
      "cell_type": "code",
      "execution_count": 3,
      "metadata": {
        "id": "wVw0Di9dATyh"
      },
      "outputs": [],
      "source": [
        "#Stockez tout le texte en HTML avec la classe \"Rating\",\"CocoaPercent\" et Company\n",
        "rating_column = soup.find_all(attrs={\"class\": \"Rating\"})\n",
        "cocoa_percent_tags = soup.find_all(attrs={\"class\": \"CocoaPercent\"})\n",
        "company_column=soup.find_all(attrs={\"class\": \"Company\"})\n",
        "origin_column=soup.find_all(attrs={\"class\": \"Origin\"})\n",
        "\n"
      ]
    },
    {
      "cell_type": "code",
      "execution_count": 4,
      "metadata": {
        "id": "1YBAUc_PTsKx"
      },
      "outputs": [],
      "source": [
        "#\n",
        "#rating_column"
      ]
    },
    {
      "cell_type": "code",
      "execution_count": 5,
      "metadata": {
        "id": "eqPWzYJJ6D6E"
      },
      "outputs": [],
      "source": [
        "#type(rating_column)"
      ]
    },
    {
      "cell_type": "code",
      "execution_count": 6,
      "metadata": {
        "colab": {
          "base_uri": "https://localhost:8080/",
          "height": 35
        },
        "id": "kBGAbftdH935",
        "outputId": "310aafd8-013c-4da7-fa40-6d90a9784b7d"
      },
      "outputs": [
        {
          "data": {
            "application/vnd.google.colaboratory.intrinsic+json": {
              "type": "string"
            },
            "text/plain": [
              "'Specific Bean Origin               or Bar Name            '"
            ]
          },
          "execution_count": 6,
          "metadata": {},
          "output_type": "execute_result"
        }
      ],
      "source": [
        "origin_column[0].get_text().replace(\"\\n\",\"\")\n"
      ]
    },
    {
      "cell_type": "code",
      "execution_count": 7,
      "metadata": {
        "colab": {
          "base_uri": "https://localhost:8080/",
          "height": 35
        },
        "id": "s8ZWbByWpu-x",
        "outputId": "9fab5f5f-674c-45bb-8d6b-a8d7bdae660a"
      },
      "outputs": [
        {
          "data": {
            "application/vnd.google.colaboratory.intrinsic+json": {
              "type": "string"
            },
            "text/plain": [
              "'Specific Bean Origin               or Bar Name            '"
            ]
          },
          "execution_count": 7,
          "metadata": {},
          "output_type": "execute_result"
        }
      ],
      "source": [
        "origin_column[0].get_text().replace(\"\\n\",\"\")"
      ]
    },
    {
      "cell_type": "code",
      "execution_count": 8,
      "metadata": {
        "id": "fk9yfZHYF4V3"
      },
      "outputs": [],
      "source": [
        "#Faire des listes vides pour Rating et CocoaPercent\n",
        "ratings = []\n",
        "cocoa_percents = []\n",
        "company=[]\n",
        "origin=[]\n",
        "\n",
        "\n",
        "#Boucle pour insérer chaque donnée de table dans la liste\n",
        "for x in rating_column[1:]:\n",
        "  ratings.append(float(x.get_text()))\n",
        "\n",
        "\n",
        "\n",
        "\n",
        "\n",
        "\n",
        "for cm in company_column[1:]:\n",
        "    company.append(cm.get_text())\n",
        "\n",
        "\n",
        "\n",
        "for org in origin_column[1:]:\n",
        "    origin.append(org.get_text())\n",
        "\n",
        "for cacao in cocoa_percent_tags[1:]:\n",
        "  cocoa_percents.append(cacao.get_text())\n",
        "\n",
        "#Combiner les notes et la liste des pourcentages de cacao dans un dictionnaire\n",
        "data = {\"Company\": company,\"Origine spécifique du harirot\":origin, \"Rating\": ratings, \"CocoaPercentage\": cocoa_percents}\n",
        "\n",
        "#Créer une nouvelle trame de données à partir du dictionnaire de données\n",
        "df = pd.DataFrame.from_dict(data)\n"
      ]
    },
    {
      "cell_type": "code",
      "execution_count": 9,
      "metadata": {
        "colab": {
          "base_uri": "https://localhost:8080/",
          "height": 363
        },
        "id": "mY8oTcLTG9dW",
        "outputId": "97225e96-d33b-4e54-8131-2e0a435867c2"
      },
      "outputs": [
        {
          "data": {
            "application/vnd.google.colaboratory.intrinsic+json": {
              "summary": "{\n  \"name\": \"df\",\n  \"rows\": 1795,\n  \"fields\": [\n    {\n      \"column\": \"Company\",\n      \"properties\": {\n        \"dtype\": \"category\",\n        \"num_unique_values\": 416,\n        \"samples\": [\n          \"Forteza (Cortes)\",\n          \"Olive and Sinclair\",\n          \"Xocolat\"\n        ],\n        \"semantic_type\": \"\",\n        \"description\": \"\"\n      }\n    },\n    {\n      \"column\": \"Origine sp\\u00e9cifique du harirot\",\n      \"properties\": {\n        \"dtype\": \"string\",\n        \"num_unique_values\": 1039,\n        \"samples\": [\n          \"Maya Mtn., Break Bar- Snark\",\n          \"Maranon, Cajamarca\",\n          \"Zorzal Reserva, 2015 H., Kerchner\"\n        ],\n        \"semantic_type\": \"\",\n        \"description\": \"\"\n      }\n    },\n    {\n      \"column\": \"Rating\",\n      \"properties\": {\n        \"dtype\": \"number\",\n        \"std\": 0.4780623935863263,\n        \"min\": 1.0,\n        \"max\": 5.0,\n        \"num_unique_values\": 13,\n        \"samples\": [\n          2.0,\n          1.5,\n          3.75\n        ],\n        \"semantic_type\": \"\",\n        \"description\": \"\"\n      }\n    },\n    {\n      \"column\": \"CocoaPercentage\",\n      \"properties\": {\n        \"dtype\": \"category\",\n        \"num_unique_values\": 45,\n        \"samples\": [\n          \"46%\",\n          \"69%\",\n          \"91%\"\n        ],\n        \"semantic_type\": \"\",\n        \"description\": \"\"\n      }\n    }\n  ]\n}",
              "type": "dataframe",
              "variable_name": "df"
            },
            "text/html": [
              "\n",
              "  <div id=\"df-4c3f1d90-cc20-4762-a7ff-46cc01cd11ca\" class=\"colab-df-container\">\n",
              "    <div>\n",
              "<style scoped>\n",
              "    .dataframe tbody tr th:only-of-type {\n",
              "        vertical-align: middle;\n",
              "    }\n",
              "\n",
              "    .dataframe tbody tr th {\n",
              "        vertical-align: top;\n",
              "    }\n",
              "\n",
              "    .dataframe thead th {\n",
              "        text-align: right;\n",
              "    }\n",
              "</style>\n",
              "<table border=\"1\" class=\"dataframe\">\n",
              "  <thead>\n",
              "    <tr style=\"text-align: right;\">\n",
              "      <th></th>\n",
              "      <th>Company</th>\n",
              "      <th>Origine spécifique du harirot</th>\n",
              "      <th>Rating</th>\n",
              "      <th>CocoaPercentage</th>\n",
              "    </tr>\n",
              "  </thead>\n",
              "  <tbody>\n",
              "    <tr>\n",
              "      <th>0</th>\n",
              "      <td>A. Morin</td>\n",
              "      <td>Agua Grande</td>\n",
              "      <td>3.75</td>\n",
              "      <td>63%</td>\n",
              "    </tr>\n",
              "    <tr>\n",
              "      <th>1</th>\n",
              "      <td>A. Morin</td>\n",
              "      <td>Kpime</td>\n",
              "      <td>2.75</td>\n",
              "      <td>70%</td>\n",
              "    </tr>\n",
              "    <tr>\n",
              "      <th>2</th>\n",
              "      <td>A. Morin</td>\n",
              "      <td>Atsane</td>\n",
              "      <td>3.00</td>\n",
              "      <td>70%</td>\n",
              "    </tr>\n",
              "    <tr>\n",
              "      <th>3</th>\n",
              "      <td>A. Morin</td>\n",
              "      <td>Akata</td>\n",
              "      <td>3.50</td>\n",
              "      <td>70%</td>\n",
              "    </tr>\n",
              "    <tr>\n",
              "      <th>4</th>\n",
              "      <td>A. Morin</td>\n",
              "      <td>Quilla</td>\n",
              "      <td>3.50</td>\n",
              "      <td>70%</td>\n",
              "    </tr>\n",
              "    <tr>\n",
              "      <th>5</th>\n",
              "      <td>A. Morin</td>\n",
              "      <td>Carenero</td>\n",
              "      <td>2.75</td>\n",
              "      <td>70%</td>\n",
              "    </tr>\n",
              "    <tr>\n",
              "      <th>6</th>\n",
              "      <td>A. Morin</td>\n",
              "      <td>Cuba</td>\n",
              "      <td>3.50</td>\n",
              "      <td>70%</td>\n",
              "    </tr>\n",
              "    <tr>\n",
              "      <th>7</th>\n",
              "      <td>A. Morin</td>\n",
              "      <td>Sur del Lago</td>\n",
              "      <td>3.50</td>\n",
              "      <td>70%</td>\n",
              "    </tr>\n",
              "    <tr>\n",
              "      <th>8</th>\n",
              "      <td>A. Morin</td>\n",
              "      <td>Puerto Cabello</td>\n",
              "      <td>3.75</td>\n",
              "      <td>70%</td>\n",
              "    </tr>\n",
              "    <tr>\n",
              "      <th>9</th>\n",
              "      <td>A. Morin</td>\n",
              "      <td>Pablino</td>\n",
              "      <td>4.00</td>\n",
              "      <td>70%</td>\n",
              "    </tr>\n",
              "  </tbody>\n",
              "</table>\n",
              "</div>\n",
              "    <div class=\"colab-df-buttons\">\n",
              "\n",
              "  <div class=\"colab-df-container\">\n",
              "    <button class=\"colab-df-convert\" onclick=\"convertToInteractive('df-4c3f1d90-cc20-4762-a7ff-46cc01cd11ca')\"\n",
              "            title=\"Convert this dataframe to an interactive table.\"\n",
              "            style=\"display:none;\">\n",
              "\n",
              "  <svg xmlns=\"http://www.w3.org/2000/svg\" height=\"24px\" viewBox=\"0 -960 960 960\">\n",
              "    <path d=\"M120-120v-720h720v720H120Zm60-500h600v-160H180v160Zm220 220h160v-160H400v160Zm0 220h160v-160H400v160ZM180-400h160v-160H180v160Zm440 0h160v-160H620v160ZM180-180h160v-160H180v160Zm440 0h160v-160H620v160Z\"/>\n",
              "  </svg>\n",
              "    </button>\n",
              "\n",
              "  <style>\n",
              "    .colab-df-container {\n",
              "      display:flex;\n",
              "      gap: 12px;\n",
              "    }\n",
              "\n",
              "    .colab-df-convert {\n",
              "      background-color: #E8F0FE;\n",
              "      border: none;\n",
              "      border-radius: 50%;\n",
              "      cursor: pointer;\n",
              "      display: none;\n",
              "      fill: #1967D2;\n",
              "      height: 32px;\n",
              "      padding: 0 0 0 0;\n",
              "      width: 32px;\n",
              "    }\n",
              "\n",
              "    .colab-df-convert:hover {\n",
              "      background-color: #E2EBFA;\n",
              "      box-shadow: 0px 1px 2px rgba(60, 64, 67, 0.3), 0px 1px 3px 1px rgba(60, 64, 67, 0.15);\n",
              "      fill: #174EA6;\n",
              "    }\n",
              "\n",
              "    .colab-df-buttons div {\n",
              "      margin-bottom: 4px;\n",
              "    }\n",
              "\n",
              "    [theme=dark] .colab-df-convert {\n",
              "      background-color: #3B4455;\n",
              "      fill: #D2E3FC;\n",
              "    }\n",
              "\n",
              "    [theme=dark] .colab-df-convert:hover {\n",
              "      background-color: #434B5C;\n",
              "      box-shadow: 0px 1px 3px 1px rgba(0, 0, 0, 0.15);\n",
              "      filter: drop-shadow(0px 1px 2px rgba(0, 0, 0, 0.3));\n",
              "      fill: #FFFFFF;\n",
              "    }\n",
              "  </style>\n",
              "\n",
              "    <script>\n",
              "      const buttonEl =\n",
              "        document.querySelector('#df-4c3f1d90-cc20-4762-a7ff-46cc01cd11ca button.colab-df-convert');\n",
              "      buttonEl.style.display =\n",
              "        google.colab.kernel.accessAllowed ? 'block' : 'none';\n",
              "\n",
              "      async function convertToInteractive(key) {\n",
              "        const element = document.querySelector('#df-4c3f1d90-cc20-4762-a7ff-46cc01cd11ca');\n",
              "        const dataTable =\n",
              "          await google.colab.kernel.invokeFunction('convertToInteractive',\n",
              "                                                    [key], {});\n",
              "        if (!dataTable) return;\n",
              "\n",
              "        const docLinkHtml = 'Like what you see? Visit the ' +\n",
              "          '<a target=\"_blank\" href=https://colab.research.google.com/notebooks/data_table.ipynb>data table notebook</a>'\n",
              "          + ' to learn more about interactive tables.';\n",
              "        element.innerHTML = '';\n",
              "        dataTable['output_type'] = 'display_data';\n",
              "        await google.colab.output.renderOutput(dataTable, element);\n",
              "        const docLink = document.createElement('div');\n",
              "        docLink.innerHTML = docLinkHtml;\n",
              "        element.appendChild(docLink);\n",
              "      }\n",
              "    </script>\n",
              "  </div>\n",
              "\n",
              "\n",
              "    <div id=\"df-46a98710-829f-4764-896b-a15a02759789\">\n",
              "      <button class=\"colab-df-quickchart\" onclick=\"quickchart('df-46a98710-829f-4764-896b-a15a02759789')\"\n",
              "                title=\"Suggest charts\"\n",
              "                style=\"display:none;\">\n",
              "\n",
              "<svg xmlns=\"http://www.w3.org/2000/svg\" height=\"24px\"viewBox=\"0 0 24 24\"\n",
              "     width=\"24px\">\n",
              "    <g>\n",
              "        <path d=\"M19 3H5c-1.1 0-2 .9-2 2v14c0 1.1.9 2 2 2h14c1.1 0 2-.9 2-2V5c0-1.1-.9-2-2-2zM9 17H7v-7h2v7zm4 0h-2V7h2v10zm4 0h-2v-4h2v4z\"/>\n",
              "    </g>\n",
              "</svg>\n",
              "      </button>\n",
              "\n",
              "<style>\n",
              "  .colab-df-quickchart {\n",
              "      --bg-color: #E8F0FE;\n",
              "      --fill-color: #1967D2;\n",
              "      --hover-bg-color: #E2EBFA;\n",
              "      --hover-fill-color: #174EA6;\n",
              "      --disabled-fill-color: #AAA;\n",
              "      --disabled-bg-color: #DDD;\n",
              "  }\n",
              "\n",
              "  [theme=dark] .colab-df-quickchart {\n",
              "      --bg-color: #3B4455;\n",
              "      --fill-color: #D2E3FC;\n",
              "      --hover-bg-color: #434B5C;\n",
              "      --hover-fill-color: #FFFFFF;\n",
              "      --disabled-bg-color: #3B4455;\n",
              "      --disabled-fill-color: #666;\n",
              "  }\n",
              "\n",
              "  .colab-df-quickchart {\n",
              "    background-color: var(--bg-color);\n",
              "    border: none;\n",
              "    border-radius: 50%;\n",
              "    cursor: pointer;\n",
              "    display: none;\n",
              "    fill: var(--fill-color);\n",
              "    height: 32px;\n",
              "    padding: 0;\n",
              "    width: 32px;\n",
              "  }\n",
              "\n",
              "  .colab-df-quickchart:hover {\n",
              "    background-color: var(--hover-bg-color);\n",
              "    box-shadow: 0 1px 2px rgba(60, 64, 67, 0.3), 0 1px 3px 1px rgba(60, 64, 67, 0.15);\n",
              "    fill: var(--button-hover-fill-color);\n",
              "  }\n",
              "\n",
              "  .colab-df-quickchart-complete:disabled,\n",
              "  .colab-df-quickchart-complete:disabled:hover {\n",
              "    background-color: var(--disabled-bg-color);\n",
              "    fill: var(--disabled-fill-color);\n",
              "    box-shadow: none;\n",
              "  }\n",
              "\n",
              "  .colab-df-spinner {\n",
              "    border: 2px solid var(--fill-color);\n",
              "    border-color: transparent;\n",
              "    border-bottom-color: var(--fill-color);\n",
              "    animation:\n",
              "      spin 1s steps(1) infinite;\n",
              "  }\n",
              "\n",
              "  @keyframes spin {\n",
              "    0% {\n",
              "      border-color: transparent;\n",
              "      border-bottom-color: var(--fill-color);\n",
              "      border-left-color: var(--fill-color);\n",
              "    }\n",
              "    20% {\n",
              "      border-color: transparent;\n",
              "      border-left-color: var(--fill-color);\n",
              "      border-top-color: var(--fill-color);\n",
              "    }\n",
              "    30% {\n",
              "      border-color: transparent;\n",
              "      border-left-color: var(--fill-color);\n",
              "      border-top-color: var(--fill-color);\n",
              "      border-right-color: var(--fill-color);\n",
              "    }\n",
              "    40% {\n",
              "      border-color: transparent;\n",
              "      border-right-color: var(--fill-color);\n",
              "      border-top-color: var(--fill-color);\n",
              "    }\n",
              "    60% {\n",
              "      border-color: transparent;\n",
              "      border-right-color: var(--fill-color);\n",
              "    }\n",
              "    80% {\n",
              "      border-color: transparent;\n",
              "      border-right-color: var(--fill-color);\n",
              "      border-bottom-color: var(--fill-color);\n",
              "    }\n",
              "    90% {\n",
              "      border-color: transparent;\n",
              "      border-bottom-color: var(--fill-color);\n",
              "    }\n",
              "  }\n",
              "</style>\n",
              "\n",
              "      <script>\n",
              "        async function quickchart(key) {\n",
              "          const quickchartButtonEl =\n",
              "            document.querySelector('#' + key + ' button');\n",
              "          quickchartButtonEl.disabled = true;  // To prevent multiple clicks.\n",
              "          quickchartButtonEl.classList.add('colab-df-spinner');\n",
              "          try {\n",
              "            const charts = await google.colab.kernel.invokeFunction(\n",
              "                'suggestCharts', [key], {});\n",
              "          } catch (error) {\n",
              "            console.error('Error during call to suggestCharts:', error);\n",
              "          }\n",
              "          quickchartButtonEl.classList.remove('colab-df-spinner');\n",
              "          quickchartButtonEl.classList.add('colab-df-quickchart-complete');\n",
              "        }\n",
              "        (() => {\n",
              "          let quickchartButtonEl =\n",
              "            document.querySelector('#df-46a98710-829f-4764-896b-a15a02759789 button');\n",
              "          quickchartButtonEl.style.display =\n",
              "            google.colab.kernel.accessAllowed ? 'block' : 'none';\n",
              "        })();\n",
              "      </script>\n",
              "    </div>\n",
              "\n",
              "    </div>\n",
              "  </div>\n"
            ],
            "text/plain": [
              "    Company Origine spécifique du harirot  Rating CocoaPercentage\n",
              "0  A. Morin                   Agua Grande    3.75             63%\n",
              "1  A. Morin                         Kpime    2.75             70%\n",
              "2  A. Morin                        Atsane    3.00             70%\n",
              "3  A. Morin                         Akata    3.50             70%\n",
              "4  A. Morin                        Quilla    3.50             70%\n",
              "5  A. Morin                      Carenero    2.75             70%\n",
              "6  A. Morin                          Cuba    3.50             70%\n",
              "7  A. Morin                  Sur del Lago    3.50             70%\n",
              "8  A. Morin                Puerto Cabello    3.75             70%\n",
              "9  A. Morin                       Pablino    4.00             70%"
            ]
          },
          "execution_count": 9,
          "metadata": {},
          "output_type": "execute_result"
        }
      ],
      "source": [
        "df.head(10)"
      ]
    },
    {
      "cell_type": "code",
      "execution_count": 15,
      "metadata": {
        "colab": {
          "base_uri": "https://localhost:8080/"
        },
        "id": "O6eOQCyLO5_B",
        "outputId": "e3a1e386-289c-474b-efe6-d6296f785db4"
      },
      "outputs": [
        {
          "data": {
            "text/plain": [
              "(1795, 4)"
            ]
          },
          "execution_count": 15,
          "metadata": {},
          "output_type": "execute_result"
        }
      ],
      "source": [
        "df.shape"
      ]
    },
    {
      "cell_type": "code",
      "execution_count": 11,
      "metadata": {
        "id": "zeQuYfHE2U0A"
      },
      "outputs": [],
      "source": [
        "#df.to_csv('/content/export/GfG.csv', index = True)"
      ]
    },
    {
      "cell_type": "markdown",
      "metadata": {
        "id": "FNVx4Qli0XuU"
      },
      "source": [
        "# **Méthodes utiles de BeautifulSoup**"
      ]
    },
    {
      "cell_type": "markdown",
      "metadata": {
        "id": "7HITmiHx4Lxm"
      },
      "source": [
        "# **A. Rechercher des éléments**\n"
      ]
    },
    {
      "cell_type": "markdown",
      "metadata": {
        "id": "dByeDz810NNZ"
      },
      "source": [
        "| Méthode                          | Ce qu’elle fait                                                                        |\n",
        "| -------------------------------- | -------------------------------------------------------------------------------------- |\n",
        "| `find(name, attrs, string)`      | Retourne **le premier** élément qui correspond (par nom de balise, attributs, texte).  |\n",
        "| `find_all(name, attrs, string)`  | Retourne **tous** les éléments correspondants (liste). Alias : `findAll`.              |\n",
        "| `select(css_selector)`           | Retourne les éléments qui matchent un **sélecteur CSS** (ex. `\"table.data td.price\"`). |\n",
        "| `select_one(css_selector)`       | Retourne **le premier** élément qui match un sélecteur CSS.                            |\n",
        "| `find_parent(name, attrs)`       | Premier **parent** qui matche.                                                         |\n",
        "| `find_parents(name, attrs)`      | **Tous les parents** qui matchent.                                                     |\n",
        "| `find_next(name, attrs)`         | Prochain élément **après** dans le flux qui matche.                                    |\n",
        "| `find_all_next(name, attrs)`     | **Tous** les suivants qui matchent.                                                    |\n",
        "| `find_previous(name, attrs)`     | Élément **avant** dans le flux qui matche.                                             |\n",
        "| `find_all_previous(name, attrs)` | **Tous** les précédents qui matchent.                                                  |\n"
      ]
    },
    {
      "cell_type": "markdown",
      "metadata": {
        "id": "71w9KK9e4A4A"
      },
      "source": [
        "**B. Naviguer dans l’arbre**"
      ]
    },
    {
      "cell_type": "markdown",
      "metadata": {
        "id": "qdj-J2ns38_K"
      },
      "source": [
        "| Méthode/Attribut                          | Ce qu’elle fait                                                |\n",
        "| ----------------------------------------- | -------------------------------------------------------------- |\n",
        "| `tag.parent` / `tag.parents`              | Accéder au parent / itérer sur tous les parents.               |\n",
        "| `tag.next_sibling` / `previous_sibling`   | Frère **suivant** / **précédent** immédiat.                    |\n",
        "| `tag.next_siblings` / `previous_siblings` | Itérateurs sur **tous** les frères suivants/précédents.        |\n",
        "| `tag.children` / `tag.descendants`        | Itérateurs sur **enfants directs** / **tous les descendants**. |\n",
        "| `tag.contents`                            | **Liste** des enfants directs.                                 |\n",
        "| `soup.title`, `soup.head`, `soup.body`    | Accès rapide au **premier** tag de ce type.                    |\n"
      ]
    },
    {
      "cell_type": "code",
      "execution_count": 3,
      "metadata": {
        "id": "zmTRkB-u0gcY"
      },
      "outputs": [
        {
          "name": "stdout",
          "output_type": "stream",
          "text": [
            "❌ Erreur lors de l'extraction : All arrays must be of the same length\n",
            "Empty DataFrame\n",
            "Columns: [infoTable, Company, Origin, REF, ReviewDate, CocoaPercent, CompanyLocation, Rating, BeanType, BroadBeanOrigin]\n",
            "Index: []\n"
          ]
        }
      ],
      "source": [
        "from extraction.webscrapping import ExtractionData \n",
        "\n",
        "url = \"https://content.codecademy.com/courses/beautifulsoup/cacao/index.html\"\n",
        "colonnes = [\"Company\", \"Origin\", \"Rating\",\"Cocoa Percent\"]\n",
        "\n",
        "df = ExtractionData.extract_webscrapping(url)#, colonnes)#,selector= \"table#Cacao Ratings\")\n",
        "print(df.head())"
      ]
    },
    {
      "cell_type": "code",
      "execution_count": 1,
      "metadata": {
        "id": "TYdpRt7P0TYM"
      },
      "outputs": [
        {
          "name": "stdout",
          "output_type": "stream",
          "text": [
            "  Company Location Broad Bean Origin Rating Cocoa Percent\n",
            "0         A. Morin       Agua Grande   3.75           63%\n",
            "1         A. Morin             Kpime   2.75           70%\n",
            "2         A. Morin            Atsane      3           70%\n",
            "3         A. Morin             Akata    3.5           70%\n",
            "4         A. Morin            Quilla    3.5           70%\n"
          ]
        }
      ],
      "source": [
        "from extraction.webscrapping import ExtractionData \n",
        "url = \"https://content.codecademy.com/courses/beautifulsoup/cacao/index.html\"\n",
        "\n",
        "colonnes = [\"Company\", \"Origin\", \"Rating\", \"CocoaPercent\"]\n",
        "noms_final = [\"Company Location\", \"Broad Bean Origin\", \"Rating\", \"Cocoa Percent\"]\n",
        "\n",
        "df = ExtractionData.extract_webscrapping(\n",
        "    url, \n",
        "    columns_to_extract=colonnes, \n",
        "    rename_columns=noms_final\n",
        ")\n",
        "\n",
        "print(df.head())\n"
      ]
    },
    {
      "cell_type": "code",
      "execution_count": 5,
      "metadata": {},
      "outputs": [
        {
          "name": "stdout",
          "output_type": "stream",
          "text": [
            "Empty DataFrame\n",
            "Columns: []\n",
            "Index: [0]\n"
          ]
        }
      ],
      "source": [
        "url = \"https://content.codecademy.com/courses/beautifulsoup/cacao/index.html\"\n",
        "\n",
        "# 1) Sans colonnes → prend tout\n",
        "df_all = ExtractionData.extract_webscrapping(url)\n",
        "print(df_all.head())\n",
        "\n"
      ]
    },
    {
      "cell_type": "code",
      "execution_count": 5,
      "metadata": {},
      "outputs": [
        {
          "name": "stdout",
          "output_type": "stream",
          "text": [
            "Il n'y a pas de valeurs doublons dans la DataFrame.\n",
            "None\n"
          ]
        }
      ],
      "source": [
        "from module_exploration.doublons import ValeurDouble\n",
        "print(ValeurDouble.calcul_valeur_double(df))"
      ]
    },
    {
      "cell_type": "code",
      "execution_count": 2,
      "metadata": {},
      "outputs": [
        {
          "name": "stdout",
          "output_type": "stream",
          "text": [
            "Company Location     0\n",
            "Broad Bean Origin    0\n",
            "Rating               0\n",
            "Cocoa Percent        0\n",
            "dtype: int64\n"
          ]
        }
      ],
      "source": [
        "from module_exploration.valeurs_manquantes import ValeurManquante\n",
        "print(ValeurManquante.calcul_valeur_manquante(df))"
      ]
    },
    {
      "cell_type": "code",
      "execution_count": 6,
      "metadata": {},
      "outputs": [
        {
          "name": "stdout",
          "output_type": "stream",
          "text": [
            "<class 'pandas.core.frame.DataFrame'>\n",
            "RangeIndex: 1795 entries, 0 to 1794\n",
            "Data columns (total 4 columns):\n",
            " #   Column             Non-Null Count  Dtype  \n",
            "---  ------             --------------  -----  \n",
            " 0   Company Location   1795 non-null   object \n",
            " 1   Broad Bean Origin  1795 non-null   object \n",
            " 2   Rating             1795 non-null   float64\n",
            " 3   Cocoa Percent      1795 non-null   object \n",
            "dtypes: float64(1), object(3)\n",
            "memory usage: 56.2+ KB\n"
          ]
        }
      ],
      "source": [
        "df.info()"
      ]
    },
    {
      "cell_type": "code",
      "execution_count": 9,
      "metadata": {},
      "outputs": [
        {
          "name": "stdout",
          "output_type": "stream",
          "text": [
            "La colonne 'Rating' a été convertie en float64\n"
          ]
        }
      ],
      "source": [
        "from transformation.type_colonne import TypeColonne\n",
        "df2=TypeColonne.changer_type_colonne(df,cols=\"Rating\",type_=\"float\")"
      ]
    },
    {
      "cell_type": "code",
      "execution_count": 4,
      "metadata": {},
      "outputs": [
        {
          "data": {
            "text/plain": [
              "np.int64(0)"
            ]
          },
          "execution_count": 4,
          "metadata": {},
          "output_type": "execute_result"
        }
      ],
      "source": [
        "df2[\"Rating\"].isna().sum()"
      ]
    },
    {
      "cell_type": "code",
      "execution_count": 14,
      "metadata": {},
      "outputs": [
        {
          "name": "stdout",
          "output_type": "stream",
          "text": [
            "La colonne Rating contient 19 valeurs abérantes\n",
            "78      5.00\n",
            "86      5.00\n",
            "125     1.75\n",
            "132     1.75\n",
            "245     1.50\n",
            "249     1.50\n",
            "324     1.50\n",
            "326     1.00\n",
            "437     1.00\n",
            "449     1.50\n",
            "465     1.00\n",
            "554     1.50\n",
            "828     1.75\n",
            "988     1.50\n",
            "1129    1.50\n",
            "1175    1.00\n",
            "1411    1.50\n",
            "1492    1.50\n",
            "1694    1.50\n",
            "Name: Rating, dtype: float64\n"
          ]
        }
      ],
      "source": [
        "from anomalie.z_score import ZScoreAnomalie\n",
        "print(ZScoreAnomalie.calcul_zscore(df2,colonne=\"Rating\"))"
      ]
    },
    {
      "cell_type": "code",
      "execution_count": 1,
      "metadata": {},
      "outputs": [
        {
          "ename": "NameError",
          "evalue": "name 'df' is not defined",
          "output_type": "error",
          "traceback": [
            "\u001b[0;31m---------------------------------------------------------------------------\u001b[0m",
            "\u001b[0;31mNameError\u001b[0m                                 Traceback (most recent call last)",
            "Cell \u001b[0;32mIn[1], line 1\u001b[0m\n\u001b[0;32m----> 1\u001b[0m \u001b[43mdf\u001b[49m[\u001b[38;5;124m\"\u001b[39m\u001b[38;5;124mRating\u001b[39m\u001b[38;5;124m\"\u001b[39m]\u001b[38;5;241m.\u001b[39minfo()\n",
            "\u001b[0;31mNameError\u001b[0m: name 'df' is not defined"
          ]
        }
      ],
      "source": [
        "df[\"Rating\"].info()"
      ]
    },
    {
      "cell_type": "code",
      "execution_count": 5,
      "metadata": {},
      "outputs": [
        {
          "name": "stdout",
          "output_type": "stream",
          "text": [
            "La colonne 'Rating' a été normalisée entre 0 et 1.\n"
          ]
        }
      ],
      "source": [
        "from transformation.normalisation import NormaliserColonne\n",
        "df3 = NormaliserColonne.normaliser_colonne_choisie(df2,col=\"Rating\")"
      ]
    },
    {
      "cell_type": "code",
      "execution_count": 5,
      "metadata": {},
      "outputs": [
        {
          "name": "stdout",
          "output_type": "stream",
          "text": [
            " Colonne 'Rating' ne contient aucun NaN → aucune imputation nécessaire.\n"
          ]
        },
        {
          "data": {
            "text/plain": [
              "0       3.75\n",
              "1       2.75\n",
              "2       3.00\n",
              "3       3.50\n",
              "4       3.50\n",
              "        ... \n",
              "1790    3.75\n",
              "1791    3.00\n",
              "1792    3.50\n",
              "1793    3.25\n",
              "1794    3.00\n",
              "Name: Rating, Length: 1795, dtype: float64"
            ]
          },
          "execution_count": 5,
          "metadata": {},
          "output_type": "execute_result"
        }
      ],
      "source": [
        "from imputation.imputer import Imputateur\n",
        "Imputateur.imputer_colonne(df2,colonne=\"Rating\",strategie=\"moyenne\")"
      ]
    },
    {
      "cell_type": "code",
      "execution_count": 5,
      "metadata": {},
      "outputs": [
        {
          "name": "stdout",
          "output_type": "stream",
          "text": [
            " Colonne 'Rating' ne contient aucun NaN → aucune imputation nécessaire.\n"
          ]
        }
      ],
      "source": [
        "from imputation.imputation_supervisee import ImputateurML\n",
        "from sklearn.ensemble import RandomForestRegressor\n",
        "modele = RandomForestRegressor(random_state=42)\n",
        "\n",
        "df3 = ImputateurML.imputer_colonne_ml(df2,colonne_cible=\"Rating\",modele = modele)"
      ]
    },
    {
      "cell_type": "code",
      "execution_count": 8,
      "metadata": {},
      "outputs": [
        {
          "name": "stdout",
          "output_type": "stream",
          "text": [
            "La colonne 'Company Location' a été convertie en string\n",
            "La colonne 'Broad Bean Origin' a été convertie en string\n"
          ]
        }
      ],
      "source": [
        "from transformation.type_colonne import TypeColonne\n",
        "\n",
        "TypeColonne.changer_type_colonne(df,cols=[\"Company Location\",\"Broad Bean Origin\"],type_=\"string\",inplace = True)"
      ]
    },
    {
      "cell_type": "code",
      "execution_count": 7,
      "metadata": {},
      "outputs": [
        {
          "name": "stdout",
          "output_type": "stream",
          "text": [
            "<class 'pandas.core.frame.DataFrame'>\n",
            "RangeIndex: 1795 entries, 0 to 1794\n",
            "Data columns (total 4 columns):\n",
            " #   Column             Non-Null Count  Dtype \n",
            "---  ------             --------------  ----- \n",
            " 0   Company Location   1795 non-null   string\n",
            " 1   Broad Bean Origin  1795 non-null   string\n",
            " 2   Rating             1795 non-null   object\n",
            " 3   Cocoa Percent      1795 non-null   object\n",
            "dtypes: object(2), string(2)\n",
            "memory usage: 56.2+ KB\n"
          ]
        }
      ],
      "source": [
        "df.info()"
      ]
    },
    {
      "cell_type": "code",
      "execution_count": 5,
      "metadata": {},
      "outputs": [
        {
          "name": "stdout",
          "output_type": "stream",
          "text": [
            " Remplacement effectué et colonne 'Cocoa Percent' divisée par 100.\n"
          ]
        },
        {
          "data": {
            "text/html": [
              "<div>\n",
              "<style scoped>\n",
              "    .dataframe tbody tr th:only-of-type {\n",
              "        vertical-align: middle;\n",
              "    }\n",
              "\n",
              "    .dataframe tbody tr th {\n",
              "        vertical-align: top;\n",
              "    }\n",
              "\n",
              "    .dataframe thead th {\n",
              "        text-align: right;\n",
              "    }\n",
              "</style>\n",
              "<table border=\"1\" class=\"dataframe\">\n",
              "  <thead>\n",
              "    <tr style=\"text-align: right;\">\n",
              "      <th></th>\n",
              "      <th>Company Location</th>\n",
              "      <th>Broad Bean Origin</th>\n",
              "      <th>Rating</th>\n",
              "      <th>Cocoa Percent</th>\n",
              "    </tr>\n",
              "  </thead>\n",
              "  <tbody>\n",
              "    <tr>\n",
              "      <th>0</th>\n",
              "      <td>A. Morin</td>\n",
              "      <td>Agua Grande</td>\n",
              "      <td>3.75</td>\n",
              "      <td>0.63</td>\n",
              "    </tr>\n",
              "    <tr>\n",
              "      <th>1</th>\n",
              "      <td>A. Morin</td>\n",
              "      <td>Kpime</td>\n",
              "      <td>2.75</td>\n",
              "      <td>0.70</td>\n",
              "    </tr>\n",
              "    <tr>\n",
              "      <th>2</th>\n",
              "      <td>A. Morin</td>\n",
              "      <td>Atsane</td>\n",
              "      <td>3</td>\n",
              "      <td>0.70</td>\n",
              "    </tr>\n",
              "    <tr>\n",
              "      <th>3</th>\n",
              "      <td>A. Morin</td>\n",
              "      <td>Akata</td>\n",
              "      <td>3.5</td>\n",
              "      <td>0.70</td>\n",
              "    </tr>\n",
              "    <tr>\n",
              "      <th>4</th>\n",
              "      <td>A. Morin</td>\n",
              "      <td>Quilla</td>\n",
              "      <td>3.5</td>\n",
              "      <td>0.70</td>\n",
              "    </tr>\n",
              "    <tr>\n",
              "      <th>...</th>\n",
              "      <td>...</td>\n",
              "      <td>...</td>\n",
              "      <td>...</td>\n",
              "      <td>...</td>\n",
              "    </tr>\n",
              "    <tr>\n",
              "      <th>1790</th>\n",
              "      <td>Zotter</td>\n",
              "      <td>Peru</td>\n",
              "      <td>3.75</td>\n",
              "      <td>0.70</td>\n",
              "    </tr>\n",
              "    <tr>\n",
              "      <th>1791</th>\n",
              "      <td>Zotter</td>\n",
              "      <td>Congo</td>\n",
              "      <td>3</td>\n",
              "      <td>0.65</td>\n",
              "    </tr>\n",
              "    <tr>\n",
              "      <th>1792</th>\n",
              "      <td>Zotter</td>\n",
              "      <td>Kerala State</td>\n",
              "      <td>3.5</td>\n",
              "      <td>0.65</td>\n",
              "    </tr>\n",
              "    <tr>\n",
              "      <th>1793</th>\n",
              "      <td>Zotter</td>\n",
              "      <td>Kerala State</td>\n",
              "      <td>3.25</td>\n",
              "      <td>0.62</td>\n",
              "    </tr>\n",
              "    <tr>\n",
              "      <th>1794</th>\n",
              "      <td>Zotter</td>\n",
              "      <td>Brazil, Mitzi Blue</td>\n",
              "      <td>3</td>\n",
              "      <td>0.65</td>\n",
              "    </tr>\n",
              "  </tbody>\n",
              "</table>\n",
              "<p>1795 rows × 4 columns</p>\n",
              "</div>"
            ],
            "text/plain": [
              "     Company Location   Broad Bean Origin Rating  Cocoa Percent\n",
              "0            A. Morin         Agua Grande   3.75           0.63\n",
              "1            A. Morin               Kpime   2.75           0.70\n",
              "2            A. Morin              Atsane      3           0.70\n",
              "3            A. Morin               Akata    3.5           0.70\n",
              "4            A. Morin              Quilla    3.5           0.70\n",
              "...               ...                 ...    ...            ...\n",
              "1790           Zotter                Peru   3.75           0.70\n",
              "1791           Zotter               Congo      3           0.65\n",
              "1792           Zotter        Kerala State    3.5           0.65\n",
              "1793           Zotter        Kerala State   3.25           0.62\n",
              "1794           Zotter  Brazil, Mitzi Blue      3           0.65\n",
              "\n",
              "[1795 rows x 4 columns]"
            ]
          },
          "execution_count": 5,
          "metadata": {},
          "output_type": "execute_result"
        }
      ],
      "source": [
        "from remplacement.remplacer import RemplacementColonne\n",
        "\n",
        "RemplacementColonne.remplacer_valeurs(df,colonne = \"Cocoa Percent\",remplacement=(\"%\",\"\"),divide=True,inplace= True)"
      ]
    },
    {
      "cell_type": "code",
      "execution_count": 4,
      "metadata": {},
      "outputs": [
        {
          "name": "stdout",
          "output_type": "stream",
          "text": [
            "Rating: outliers supprimés (n=19).\n"
          ]
        },
        {
          "data": {
            "text/html": [
              "<div>\n",
              "<style scoped>\n",
              "    .dataframe tbody tr th:only-of-type {\n",
              "        vertical-align: middle;\n",
              "    }\n",
              "\n",
              "    .dataframe tbody tr th {\n",
              "        vertical-align: top;\n",
              "    }\n",
              "\n",
              "    .dataframe thead th {\n",
              "        text-align: right;\n",
              "    }\n",
              "</style>\n",
              "<table border=\"1\" class=\"dataframe\">\n",
              "  <thead>\n",
              "    <tr style=\"text-align: right;\">\n",
              "      <th></th>\n",
              "      <th>Company Location</th>\n",
              "      <th>Broad Bean Origin</th>\n",
              "      <th>Rating</th>\n",
              "      <th>Cocoa Percent</th>\n",
              "    </tr>\n",
              "  </thead>\n",
              "  <tbody>\n",
              "    <tr>\n",
              "      <th>0</th>\n",
              "      <td>A. Morin</td>\n",
              "      <td>Agua Grande</td>\n",
              "      <td>3.75</td>\n",
              "      <td>63%</td>\n",
              "    </tr>\n",
              "    <tr>\n",
              "      <th>1</th>\n",
              "      <td>A. Morin</td>\n",
              "      <td>Kpime</td>\n",
              "      <td>2.75</td>\n",
              "      <td>70%</td>\n",
              "    </tr>\n",
              "    <tr>\n",
              "      <th>2</th>\n",
              "      <td>A. Morin</td>\n",
              "      <td>Atsane</td>\n",
              "      <td>3.00</td>\n",
              "      <td>70%</td>\n",
              "    </tr>\n",
              "    <tr>\n",
              "      <th>3</th>\n",
              "      <td>A. Morin</td>\n",
              "      <td>Akata</td>\n",
              "      <td>3.50</td>\n",
              "      <td>70%</td>\n",
              "    </tr>\n",
              "    <tr>\n",
              "      <th>4</th>\n",
              "      <td>A. Morin</td>\n",
              "      <td>Quilla</td>\n",
              "      <td>3.50</td>\n",
              "      <td>70%</td>\n",
              "    </tr>\n",
              "    <tr>\n",
              "      <th>...</th>\n",
              "      <td>...</td>\n",
              "      <td>...</td>\n",
              "      <td>...</td>\n",
              "      <td>...</td>\n",
              "    </tr>\n",
              "    <tr>\n",
              "      <th>1790</th>\n",
              "      <td>Zotter</td>\n",
              "      <td>Peru</td>\n",
              "      <td>3.75</td>\n",
              "      <td>70%</td>\n",
              "    </tr>\n",
              "    <tr>\n",
              "      <th>1791</th>\n",
              "      <td>Zotter</td>\n",
              "      <td>Congo</td>\n",
              "      <td>3.00</td>\n",
              "      <td>65%</td>\n",
              "    </tr>\n",
              "    <tr>\n",
              "      <th>1792</th>\n",
              "      <td>Zotter</td>\n",
              "      <td>Kerala State</td>\n",
              "      <td>3.50</td>\n",
              "      <td>65%</td>\n",
              "    </tr>\n",
              "    <tr>\n",
              "      <th>1793</th>\n",
              "      <td>Zotter</td>\n",
              "      <td>Kerala State</td>\n",
              "      <td>3.25</td>\n",
              "      <td>62%</td>\n",
              "    </tr>\n",
              "    <tr>\n",
              "      <th>1794</th>\n",
              "      <td>Zotter</td>\n",
              "      <td>Brazil, Mitzi Blue</td>\n",
              "      <td>3.00</td>\n",
              "      <td>65%</td>\n",
              "    </tr>\n",
              "  </tbody>\n",
              "</table>\n",
              "<p>1776 rows × 4 columns</p>\n",
              "</div>"
            ],
            "text/plain": [
              "     Company Location   Broad Bean Origin  Rating Cocoa Percent\n",
              "0            A. Morin         Agua Grande    3.75           63%\n",
              "1            A. Morin               Kpime    2.75           70%\n",
              "2            A. Morin              Atsane    3.00           70%\n",
              "3            A. Morin               Akata    3.50           70%\n",
              "4            A. Morin              Quilla    3.50           70%\n",
              "...               ...                 ...     ...           ...\n",
              "1790           Zotter                Peru    3.75           70%\n",
              "1791           Zotter               Congo    3.00           65%\n",
              "1792           Zotter        Kerala State    3.50           65%\n",
              "1793           Zotter        Kerala State    3.25           62%\n",
              "1794           Zotter  Brazil, Mitzi Blue    3.00           65%\n",
              "\n",
              "[1776 rows x 4 columns]"
            ]
          },
          "execution_count": 4,
          "metadata": {},
          "output_type": "execute_result"
        }
      ],
      "source": [
        "from nettoyage.gestion_outliers import GestionOutliers\n",
        "\n",
        "GestionOutliers.gerer_outliers(df2,colonne=\"Rating\",strategie=\"remove\",inplace=True)"
      ]
    },
    {
      "cell_type": "code",
      "execution_count": 5,
      "metadata": {},
      "outputs": [
        {
          "name": "stdout",
          "output_type": "stream",
          "text": [
            "Aucune valeur aberrante détectée dans la colonne 'Rating'.\n",
            "None\n"
          ]
        }
      ],
      "source": [
        "from anomalie.z_score import ZScoreAnomalie\n",
        "print(ZScoreAnomalie.calcul_zscore(df2,colonne=\"Rating\"))"
      ]
    },
    {
      "cell_type": "code",
      "execution_count": 15,
      "metadata": {},
      "outputs": [
        {
          "data": {
            "text/html": [
              "<div>\n",
              "<style scoped>\n",
              "    .dataframe tbody tr th:only-of-type {\n",
              "        vertical-align: middle;\n",
              "    }\n",
              "\n",
              "    .dataframe tbody tr th {\n",
              "        vertical-align: top;\n",
              "    }\n",
              "\n",
              "    .dataframe thead th {\n",
              "        text-align: right;\n",
              "    }\n",
              "</style>\n",
              "<table border=\"1\" class=\"dataframe\">\n",
              "  <thead>\n",
              "    <tr style=\"text-align: right;\">\n",
              "      <th></th>\n",
              "      <th>Company Location</th>\n",
              "      <th>Broad Bean Origin</th>\n",
              "      <th>Rating</th>\n",
              "      <th>Cocoa Percent</th>\n",
              "    </tr>\n",
              "  </thead>\n",
              "  <tbody>\n",
              "    <tr>\n",
              "      <th>0</th>\n",
              "      <td>A. Morin</td>\n",
              "      <td>Agua Grande</td>\n",
              "      <td>1.180231</td>\n",
              "      <td>63%</td>\n",
              "    </tr>\n",
              "    <tr>\n",
              "      <th>1</th>\n",
              "      <td>A. Morin</td>\n",
              "      <td>Kpime</td>\n",
              "      <td>-0.912129</td>\n",
              "      <td>70%</td>\n",
              "    </tr>\n",
              "    <tr>\n",
              "      <th>2</th>\n",
              "      <td>A. Morin</td>\n",
              "      <td>Atsane</td>\n",
              "      <td>-0.389039</td>\n",
              "      <td>70%</td>\n",
              "    </tr>\n",
              "    <tr>\n",
              "      <th>3</th>\n",
              "      <td>A. Morin</td>\n",
              "      <td>Akata</td>\n",
              "      <td>0.657141</td>\n",
              "      <td>70%</td>\n",
              "    </tr>\n",
              "    <tr>\n",
              "      <th>4</th>\n",
              "      <td>A. Morin</td>\n",
              "      <td>Quilla</td>\n",
              "      <td>0.657141</td>\n",
              "      <td>70%</td>\n",
              "    </tr>\n",
              "    <tr>\n",
              "      <th>...</th>\n",
              "      <td>...</td>\n",
              "      <td>...</td>\n",
              "      <td>...</td>\n",
              "      <td>...</td>\n",
              "    </tr>\n",
              "    <tr>\n",
              "      <th>1790</th>\n",
              "      <td>Zotter</td>\n",
              "      <td>Peru</td>\n",
              "      <td>1.180231</td>\n",
              "      <td>70%</td>\n",
              "    </tr>\n",
              "    <tr>\n",
              "      <th>1791</th>\n",
              "      <td>Zotter</td>\n",
              "      <td>Congo</td>\n",
              "      <td>-0.389039</td>\n",
              "      <td>65%</td>\n",
              "    </tr>\n",
              "    <tr>\n",
              "      <th>1792</th>\n",
              "      <td>Zotter</td>\n",
              "      <td>Kerala State</td>\n",
              "      <td>0.657141</td>\n",
              "      <td>65%</td>\n",
              "    </tr>\n",
              "    <tr>\n",
              "      <th>1793</th>\n",
              "      <td>Zotter</td>\n",
              "      <td>Kerala State</td>\n",
              "      <td>0.134051</td>\n",
              "      <td>62%</td>\n",
              "    </tr>\n",
              "    <tr>\n",
              "      <th>1794</th>\n",
              "      <td>Zotter</td>\n",
              "      <td>Brazil, Mitzi Blue</td>\n",
              "      <td>-0.389039</td>\n",
              "      <td>65%</td>\n",
              "    </tr>\n",
              "  </tbody>\n",
              "</table>\n",
              "<p>1795 rows × 4 columns</p>\n",
              "</div>"
            ],
            "text/plain": [
              "     Company Location   Broad Bean Origin    Rating Cocoa Percent\n",
              "0            A. Morin         Agua Grande  1.180231           63%\n",
              "1            A. Morin               Kpime -0.912129           70%\n",
              "2            A. Morin              Atsane -0.389039           70%\n",
              "3            A. Morin               Akata  0.657141           70%\n",
              "4            A. Morin              Quilla  0.657141           70%\n",
              "...               ...                 ...       ...           ...\n",
              "1790           Zotter                Peru  1.180231           70%\n",
              "1791           Zotter               Congo -0.389039           65%\n",
              "1792           Zotter        Kerala State  0.657141           65%\n",
              "1793           Zotter        Kerala State  0.134051           62%\n",
              "1794           Zotter  Brazil, Mitzi Blue -0.389039           65%\n",
              "\n",
              "[1795 rows x 4 columns]"
            ]
          },
          "execution_count": 15,
          "metadata": {},
          "output_type": "execute_result"
        }
      ],
      "source": [
        "from transformation.standardisation_z_score import Standardisation\n",
        "\n",
        "Standardisation.zscore(df2,colonnes=\"Rating\",prefix =\"std_\")"
      ]
    },
    {
      "cell_type": "code",
      "execution_count": null,
      "metadata": {},
      "outputs": [],
      "source": []
    }
  ],
  "metadata": {
    "colab": {
      "provenance": []
    },
    "kernelspec": {
      "display_name": "Python 3",
      "name": "python3"
    },
    "language_info": {
      "codemirror_mode": {
        "name": "ipython",
        "version": 3
      },
      "file_extension": ".py",
      "mimetype": "text/x-python",
      "name": "python",
      "nbconvert_exporter": "python",
      "pygments_lexer": "ipython3",
      "version": "3.10.13"
    }
  },
  "nbformat": 4,
  "nbformat_minor": 0
}
